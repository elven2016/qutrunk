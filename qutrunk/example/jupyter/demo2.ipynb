{
 "cells": [
  {
   "cell_type": "markdown",
   "metadata": {
    "pycharm": {
     "name": "#%% md\n"
    }
   },
   "source": [
    "受控量子门操作"
   ]
  },
  {
   "cell_type": "code",
   "execution_count": 5,
   "metadata": {
    "pycharm": {
     "name": "#%%\n"
    }
   },
   "outputs": [
    {
     "name": "stdout",
     "output_type": "stream",
     "text": [
      "qreg q[3]\n",
      "creg c[3]\n",
      "CH * (q[0], q[2])\n",
      "MCX * (q[0], q[2])\n",
      "CP(1.5707963267948966) * (q[0], q[2])\n",
      "CRx(1.5707963267948966) * (q[0], q[2])\n",
      "CRy(1.5707963267948966) * (q[0], q[2])\n",
      "CRz(1.5707963267948966) * (q[0], q[2])\n",
      "MCX(2) * (q[0], q[1], q[2])\n",
      "CY * (q[0], q[2])\n",
      "MCZ(2) * (q[0], q[1], q[2])\n",
      "CSwap * (q[0], q[1], q[2])\n",
      "CSqrtX * (q[0], q[2])\n",
      "CU1(1.5707963267948966) * (q[0], q[2])\n",
      "CU3(1.5707963267948966, 1.5707963267948966, 1.5707963267948966) * (q[0], q[2])\n",
      "CH.inv() * (q[0], q[2])\n",
      "MCX.inv() * (q[0], q[2])\n",
      "CP(1.5707963267948966).inv() * (q[0], q[2])\n",
      "CRx(1.5707963267948966).inv() * (q[0], q[2])\n",
      "CRy(1.5707963267948966).inv() * (q[0], q[2])\n",
      "CRz(1.5707963267948966).inv() * (q[0], q[2])\n",
      "MCX(2).inv() * (q[0], q[1], q[2])\n",
      "CY.inv() * (q[0], q[2])\n",
      "MCZ(2).inv() * (q[0], q[1], q[2])\n",
      "CSwap.inv() * (q[0], q[1], q[2])\n",
      "CSqrtX.inv() * (q[0], q[2])\n",
      "CU1(1.5707963267948966).inv() * (q[0], q[2])\n",
      "CU3(1.5707963267948966, 1.5707963267948966, 1.5707963267948966).inv() * (q[0], q[2])\n",
      "Measure * q[0]\n",
      "Measure * q[1]\n",
      "Measure * q[2]\n"
     ]
    }
   ],
   "source": [
    "from math import pi\n",
    "\n",
    "from qutrunk.circuit import QCircuit\n",
    "from qutrunk.circuit.gates import *\n",
    "\n",
    "# allocate\n",
    "qc = QCircuit()\n",
    "qr = qc.allocate(3)\n",
    "\n",
    "# control gate\n",
    "H.ctrl() * (qr[0], qr[2])\n",
    "NOT.ctrl() * (qr[0], qr[2])\n",
    "P(pi / 2).ctrl() * (qr[0], qr[2])\n",
    "Rx(pi / 2).ctrl() * (qr[0], qr[2])\n",
    "Ry(pi / 2).ctrl() * (qr[0], qr[2])\n",
    "Rz(pi / 2).ctrl() * (qr[0], qr[2])\n",
    "X.ctrl(2) * (qr[0], qr[1], qr[2])\n",
    "Y.ctrl() * (qr[0], qr[2])\n",
    "Z.ctrl(2) * (qr[0], qr[1], qr[2])\n",
    "Swap.ctrl() * (qr[0], qr[1], qr[2])\n",
    "SqrtX.ctrl() * (qr[0], qr[2])\n",
    "U1(pi / 2).ctrl() * (qr[0], qr[2])\n",
    "U3(pi / 2, pi / 2, pi / 2).ctrl() * (qr[0], qr[2])\n",
    "\n",
    "# control inverse gate\n",
    "H.ctrl().inv() * (qr[0], qr[2])\n",
    "NOT.ctrl().inv() * (qr[0], qr[2])\n",
    "P(pi / 2).ctrl().inv() * (qr[0], qr[2])\n",
    "Rx(pi / 2).ctrl().inv() * (qr[0], qr[2])\n",
    "Ry(pi / 2).ctrl().inv() * (qr[0], qr[2])\n",
    "Rz(pi / 2).ctrl().inv() * (qr[0], qr[2])\n",
    "X.ctrl(2).inv() * (qr[0], qr[1], qr[2])\n",
    "Y.ctrl().inv() * (qr[0], qr[2])\n",
    "Z.ctrl(2).inv() * (qr[0], qr[1], qr[2])\n",
    "Swap.ctrl().inv() * (qr[0], qr[1], qr[2])\n",
    "SqrtX.ctrl().inv() * (qr[0], qr[2])\n",
    "U1(pi / 2).ctrl().inv() * (qr[0], qr[2])\n",
    "U3(pi / 2, pi / 2, pi / 2).ctrl().inv() * (qr[0], qr[2])\n",
    "\n",
    "# measure\n",
    "All(Measure) * qr\n",
    "\n",
    "# print circuit\n",
    "qc.print()\n"
   ]
  },
  {
   "cell_type": "markdown",
   "metadata": {
    "pycharm": {
     "name": "#%% md\n"
    }
   },
   "source": [
    "参数化量子线路"
   ]
  },
  {
   "cell_type": "code",
   "execution_count": 1,
   "metadata": {
    "pycharm": {
     "name": "#%%\n"
    }
   },
   "outputs": [
    {
     "name": "stdout",
     "output_type": "stream",
     "text": [
      "qreg q[2]\n",
      "creg c[2]\n",
      "Ry(theta) * q[0]\n",
      "Ry(phi) * q[1]\n",
      "qreg q[2]\n",
      "creg c[2]\n",
      "Ry(1) * q[0]\n",
      "Ry(1) * q[1]\n",
      "qreg q[2]\n",
      "creg c[2]\n",
      "Ry(2) * q[0]\n",
      "Ry(2) * q[1]\n"
     ]
    }
   ],
   "source": [
    "from qutrunk.circuit import QCircuit, Parameter\n",
    "from qutrunk.circuit.gates import Ry\n",
    "\n",
    "circuit = QCircuit()\n",
    "q = circuit.allocate(2)\n",
    "theta = circuit.parameter(\"theta\")\n",
    "phi = circuit.parameter(\"phi\")\n",
    "\n",
    "Ry(theta) * q[0]\n",
    "Ry(phi) * q[1]\n",
    "circuit.print()\n",
    "\n",
    "circuit.bind_parameters({\"theta\": 1, \"phi\": 1})\n",
    "circuit.print()\n",
    "\n",
    "circuit.bind_parameters({\"theta\": 2, \"phi\": 2})\n",
    "circuit.print()"
   ]
  }
 ],
 "metadata": {
  "kernelspec": {
   "display_name": "Python 3.10.4 64-bit",
   "language": "python",
   "name": "python3"
  },
  "language_info": {
   "codemirror_mode": {
    "name": "ipython",
    "version": 3
   },
   "file_extension": ".py",
   "mimetype": "text/x-python",
   "name": "python",
   "nbconvert_exporter": "python",
   "pygments_lexer": "ipython3",
   "version": "3.10.4"
  },
  "orig_nbformat": 4,
  "vscode": {
   "interpreter": {
    "hash": "aee8b7b246df8f9039afb4144a1f6fd8d2ca17a180786b69acc140d282b71a49"
   }
  }
 },
 "nbformat": 4,
 "nbformat_minor": 2
}