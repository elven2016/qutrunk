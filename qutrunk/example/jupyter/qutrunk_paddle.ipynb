{
 "cells": [
  {
   "cell_type": "markdown",
   "metadata": {},
   "source": [
    "VQA paddle example"
   ]
  },
  {
   "cell_type": "code",
   "execution_count": 1,
   "metadata": {},
   "outputs": [
    {
     "name": "stdout",
     "output_type": "stream",
     "text": [
      "--Rx(3.793)----Rz(6.262)--------*--------Rx(2.035)----Rz(1.282)----*--\n",
      "                                |                                  |  \n",
      "--Rx(1.754)----Rz(4.740)--------x--------Rx(5.491)----Rz(3.424)----x--\n",
      "                                                                      \n",
      "--Rx(2.634)----Rz(1.480)----Rx(5.253)----Rz(3.794)--------------------\n",
      "                                                                      \n",
      "iter: 0   loss: -0.1125\n"
     ]
    },
    {
     "name": "stderr",
     "output_type": "stream",
     "text": [
      "/Library/Frameworks/Python.framework/Versions/3.10/lib/python3.10/site-packages/paddle/fluid/framework.py:1104: DeprecationWarning: `np.bool` is a deprecated alias for the builtin `bool`. To silence this warning, use `bool` by itself. Doing this will not modify any behavior and is safe. If you specifically wanted the numpy scalar type, use `np.bool_` here.\n",
      "Deprecated in NumPy 1.20; for more details and guidance: https://numpy.org/devdocs/release/1.20.0-notes.html#deprecations\n",
      "  elif dtype == np.bool:\n",
      "/Library/Frameworks/Python.framework/Versions/3.10/lib/python3.10/site-packages/paddle/tensor/creation.py:125: DeprecationWarning: `np.object` is a deprecated alias for the builtin `object`. To silence this warning, use `object` by itself. Doing this will not modify any behavior and is safe. \n",
      "Deprecated in NumPy 1.20; for more details and guidance: https://numpy.org/devdocs/release/1.20.0-notes.html#deprecations\n",
      "  if data.dtype == np.object:\n"
     ]
    },
    {
     "name": "stdout",
     "output_type": "stream",
     "text": [
      "iter: 10   loss: -0.9600\n",
      "iter: 20   loss: -0.9907\n",
      "iter: 30   loss: -0.9955\n",
      "iter: 40   loss: -0.9982\n",
      "iter: 50   loss: -0.9987\n",
      "iter: 60   loss: -0.9994\n",
      "iter: 70   loss: -0.9998\n",
      "iter: 80   loss: -1.0000\n",
      "iter: 90   loss: -1.0000\n",
      "iter: 100   loss: -1.0000\n",
      "iter: 110   loss: -1.0000\n",
      "The minimum of the loss function: -0.9999978\n",
      "Parameters after optimizationL theta:\n",
      " [3.1430261e+00 9.6836902e-04 5.1940188e+00 4.3638558e+00 7.3632236e+00\n",
      " 2.8058007e+00 3.1410060e+00 6.2810960e+00 6.7863107e+00 2.5642626e+00\n",
      " 4.3773508e+00 1.8674097e+00]\n",
      "--Rx(3.143)----Rz(4.364)--------*--------Rx(3.141)----Rz(2.564)----*--\n",
      "                                |                                  |  \n",
      "--Rx(0.001)----Rz(7.363)--------x--------Rx(6.281)----Rz(4.377)----x--\n",
      "                                                                      \n",
      "--Rx(5.194)----Rz(2.806)----Rx(6.786)----Rz(1.867)--------------------\n",
      "                                                                      \n",
      "state_final:\n",
      " [ 6.4729538e-04+8.1474544e-05j  6.4574054e-04+8.1450911e-05j\n",
      " -6.8193483e-01-1.9013181e-01j -6.8026948e-01-1.8985978e-01j\n",
      "  6.2641753e-05+1.9847418e-04j  6.2441446e-05+1.9802038e-04j\n",
      " -1.8741764e-04+4.7138473e-04j -1.8709696e-04+4.7021889e-04j]\n"
     ]
    },
    {
     "data": {
      "image/png": "[encoded data removed]",
      "text/plain": [
       "<Figure size 432x288 with 1 Axes>"
      ]
     },
     "metadata": {
      "needs_background": "light"
     },
     "output_type": "display_data"
    }
   ],
   "source": [
    "# 加入需要用到的包\n",
    "import matplotlib.pyplot as plt\n",
    "import numpy as np\n",
    "import paddle\n",
    "import paddle_quantum\n",
    "from paddle_quantum import Hamiltonian\n",
    "\n",
    "def create_circuit(num_qubits, depth):\n",
    "    # 步骤1.1：构建 N 量子比特线路\n",
    "    circuit = paddle_quantum.ansatz.Circuit(num_qubits)\n",
    "    # 步骤1.2：对每一层添加量子门\n",
    "    for _ in range(0, depth):\n",
    "        circuit.rx('full')\n",
    "        circuit.rz('full')\n",
    "        circuit.cnot('linear')\n",
    "    return circuit\n",
    "\n",
    "num_qubits = 3\n",
    "depth = 2\n",
    "cir = create_circuit(num_qubits, depth)\n",
    "print(cir)\n",
    "\n",
    "psi_target = np.kron(\n",
    "    np.kron(np.array([1, 0]), np.array([0, 1])),\n",
    "    np.array([1/np.sqrt(2), 1/np.sqrt(2)])\n",
    ")  # <01+|\n",
    "psi_target = paddle_quantum.state.to_state(paddle.to_tensor(psi_target), dtype=paddle_quantum.get_dtype())\n",
    "fid_func = paddle_quantum.loss.StateFidelity(psi_target)\n",
    "\n",
    "# 首先，我们给出一些训练用参数\n",
    "ITR = 115      # 学习迭代次数\n",
    "LR = 0.2       # 学习速率\n",
    "\n",
    "# 记录迭代中间过程:\n",
    "loss_list = []\n",
    "parameter_list = []\n",
    "# 选择优化器，通常选用Adam\n",
    "opt = paddle.optimizer.Adam(learning_rate = LR, parameters = cir.parameters())\n",
    "# 迭代优化\n",
    "for itr in range(ITR):\n",
    "    state = cir()\n",
    "    # 计算损失函数\n",
    "    loss = -fid_func(state)\n",
    "    # 通过梯度下降算法优化\n",
    "    loss.backward()\n",
    "    opt.minimize(loss)\n",
    "    opt.clear_grad()\n",
    "    # 记录学习曲线\n",
    "    loss_list.append(loss.numpy()[0])\n",
    "    parameter_list.append(cir.param.numpy())\n",
    "    if itr % 10 == 0:\n",
    "        print('iter:', itr, '  loss: %.4f' % loss.numpy())\n",
    "\n",
    "# 输出最终损失函数值\n",
    "print('The minimum of the loss function:', loss_list[-1])\n",
    "# 输出最终量子电路参数\n",
    "theta_final = parameter_list[-1]\n",
    "print(\"Parameters after optimizationL theta:\\n\", theta_final)\n",
    "# 绘制最终电路与输出量子态\n",
    "# 输入量子电路参数需要转化为paddle.tensor类型\n",
    "theta_final = paddle.to_tensor(theta_final)\n",
    "# 绘制电路\n",
    "print(cir)\n",
    "\n",
    "# 最终得到量子态\n",
    "state_final = cir()\n",
    "print(\"state_final:\\n\", state_final)\n",
    "\n",
    "# 绘制迭代过程中损失函数变化曲线\n",
    "plt.figure(1)\n",
    "ITR_list = []\n",
    "for i in range(ITR):\n",
    "    ITR_list.append(i)\n",
    "func = plt.plot(ITR_list, loss_list, alpha=0.7, marker='', linestyle='-', color='r')\n",
    "plt.xlabel('iterations')\n",
    "plt.ylabel('loss')\n",
    "plt.legend(labels=[\"loss function during iteration\"], loc='best')\n",
    "plt.show()"
   ]
  },
  {
   "cell_type": "markdown",
   "metadata": {},
   "source": [
    "qutrunk & paddle example"
   ]
  },
  {
   "cell_type": "code",
   "execution_count": 1,
   "metadata": {},
   "outputs": [
    {
     "name": "stdout",
     "output_type": "stream",
     "text": [
      "epoch 0 loss [0.99280864]\n",
      "epoch 20 loss [0.9841885]\n",
      "epoch 40 loss [0.9654116]\n",
      "epoch 60 loss [0.92516124]\n",
      "epoch 80 loss [0.8417737]\n",
      "epoch 100 loss [0.6806265]\n",
      "epoch 120 loss [0.4073994]\n",
      "finished training, loss [0.0533426]\n",
      "final_phi: Tensor(shape=[1], dtype=float32, place=Place(cpu), stop_gradient=False,\n",
      "       [1.53739989])\n"
     ]
    }
   ],
   "source": [
    "import numpy as np\n",
    "import paddle\n",
    "from paddle.autograd import PyLayer\n",
    "\n",
    "from qutrunk.circuit import QCircuit\n",
    "from qutrunk.circuit.gates import Ry, PauliZ\n",
    "\n",
    "# calculate circuit gradient\n",
    "def parameter_shift(circuit_func, circuit, obs, input_data, shift=np.pi/2):\n",
    "    \"\"\" \n",
    "    Backward pass computation, calculate the gradient of quantum circuit by parameter shift rule.\n",
    "    \"\"\"\n",
    "    input_list = np.array(input_data.tolist())\n",
    "    \n",
    "    shift_right = input_list + np.ones(input_list.shape) * shift\n",
    "    shift_left = input_list - np.ones(input_list.shape) * shift\n",
    "    \n",
    "    gradients = []\n",
    "    for i in range(len(input_list)):\n",
    "        expectation_right = circuit_func(circuit, obs, shift_right[i])\n",
    "        expectation_left  = circuit_func(circuit, obs, shift_left[i])\n",
    "        \n",
    "        gradient = np.array([expectation_right]) - np.array([expectation_left])\n",
    "        gradients.append(gradient)\n",
    "    gradients = np.squeeze(np.array(gradients).T)\n",
    "    return gradients\n",
    "\n",
    "# define circuit layer by PyLayer\n",
    "class CircuitLayer(PyLayer):\n",
    "    @staticmethod\n",
    "    def forward(ctx, circuit, obs, x):\n",
    "        def circuit_func(circuit, obs, input_data):\n",
    "            cc = circuit.bind_parameters({\"phi\": input_data})\n",
    "            expval = cc.expval_pauli(obs)\n",
    "            return expval\n",
    "        expval = circuit_func(circuit, obs, x)\n",
    "        out = paddle.to_tensor(expval, stop_gradient=False)\n",
    "        ctx.save_for_backward(circuit, obs, x)\n",
    "        \n",
    "        ctx.func = circuit_func\n",
    "        return out\n",
    "\n",
    "    @staticmethod\n",
    "    def backward(ctx, dy):\n",
    "        circuit, obs, input_data, = ctx.saved_tensor()\n",
    "        grad = parameter_shift(ctx.func, circuit, obs, input_data)\n",
    "        grad = paddle.to_tensor(grad, dtype='float32', stop_gradient=False)\n",
    "        grad = paddle.reshape(grad, dy.shape)\n",
    "        return grad\n",
    "\n",
    "phi = paddle.to_tensor(0.12, stop_gradient=False)\n",
    "\n",
    "# define circuit by qutrunk\n",
    "def def_circuit():\n",
    "    circuit = QCircuit()\n",
    "    q = circuit.allocate(1)\n",
    "    phi = circuit.parameter(\"phi\")\n",
    "    Ry(phi) * q[0]\n",
    "    return circuit, PauliZ(q[0])\n",
    "\n",
    "circuit, obs = def_circuit()\n",
    "\n",
    "# optimizer \n",
    "sgd_optimizer = paddle.optimizer.SGD(learning_rate=0.01, parameters=[phi])\n",
    "\n",
    "total_epoch = 140\n",
    "for i in range(total_epoch):\n",
    "    # apply circuit layer\n",
    "    z = CircuitLayer.apply(circuit, obs, phi)\n",
    "    loss = z.mean()\n",
    "    loss.backward()\n",
    "    sgd_optimizer.step()\n",
    "    sgd_optimizer.clear_grad()\n",
    "    \n",
    "    if i%20 == 0:\n",
    "        print(\"epoch {} loss {}\".format(i, loss.numpy()))\n",
    "        \n",
    "print(\"finished training, loss {}\".format(loss.numpy()))\n",
    "# final phi after optimize\n",
    "print(\"final_phi:\", phi)\n",
    "\n"
   ]
  }
 ],
 "metadata": {
  "kernelspec": {
   "display_name": "Python 3.10.4 64-bit",
   "language": "python",
   "name": "python3"
  },
  "language_info": {
   "codemirror_mode": {
    "name": "ipython",
    "version": 3
   },
   "file_extension": ".py",
   "mimetype": "text/x-python",
   "name": "python",
   "nbconvert_exporter": "python",
   "pygments_lexer": "ipython3",
   "version": "3.10.4"
  },
  "orig_nbformat": 4,
  "vscode": {
   "interpreter": {
    "hash": "aee8b7b246df8f9039afb4144a1f6fd8d2ca17a180786b69acc140d282b71a49"
   }
  }
 },
 "nbformat": 4,
 "nbformat_minor": 2
}
