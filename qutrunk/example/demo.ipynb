{
 "cells": [
  {
   "cell_type": "markdown",
   "metadata": {
    "pycharm": {
     "name": "#%% md\n"
    }
   },
   "source": [
    "反序列化OpenQASM文件对象，并运行量子线路。"
   ]
  },
  {
   "cell_type": "code",
   "execution_count": 5,
   "metadata": {
    "pycharm": {
     "is_executing": true,
     "name": "#%%\n"
    }
   },
   "outputs": [
    {
     "name": "stdout",
     "output_type": "stream",
     "text": [
      "[0, 0]\n",
      "[{\"00\": 49}, {\"11\": 51}]\n"
     ]
    }
   ],
   "source": [
    "\"\"\"Deserialize OpenQASM file object.\"\"\"\n",
    "from qutrunk.circuit import QCircuit\n",
    "\n",
    "circuit = QCircuit.load(file=\"bell_pair.qasm\", format=\"openqasm\")\n",
    "# run circuit\n",
    "res = circuit.run(shots=100)\n",
    "# print result\n",
    "print(res.get_measure())\n",
    "print(res.get_counts())"
   ]
  },
  {
   "cell_type": "markdown",
   "metadata": {
    "pycharm": {
     "name": "#%% md\n"
    }
   },
   "source": [
    "反序列化QuSL文件对象，并运行量子线路。"
   ]
  },
  {
   "cell_type": "code",
   "execution_count": 6,
   "metadata": {
    "pycharm": {
     "is_executing": true,
     "name": "#%%\n"
    }
   },
   "outputs": [
    {
     "name": "stdout",
     "output_type": "stream",
     "text": [
      "[0, 0]\n",
      "[{\"00\": 52}, {\"11\": 48}]\n"
     ]
    }
   ],
   "source": [
    "\"\"\"Deserialize QuSL file object.\"\"\"\n",
    "from qutrunk.circuit import QCircuit\n",
    "\n",
    "circuit = QCircuit.load(file=\"bell_pair.qusl\")\n",
    "# run circuit\n",
    "res = circuit.run(shots=100)\n",
    "# print result\n",
    "print(res.get_measure())\n",
    "print(res.get_counts())"
   ]
  },
  {
   "cell_type": "markdown",
   "metadata": {
    "pycharm": {
     "name": "#%% md\n"
    }
   },
   "source": [
    "使用qusprout作为后端运行量子线路"
   ]
  },
  {
   "cell_type": "code",
   "execution_count": 8,
   "metadata": {
    "pycharm": {
     "name": "#%%\n"
    }
   },
   "outputs": [
    {
     "name": "stdout",
     "output_type": "stream",
     "text": [
      "[{\"00\": 47}, {\"11\": 53}]\n"
     ]
    }
   ],
   "source": [
    "from qutrunk.circuit import QCircuit\n",
    "from qutrunk.backends import BackendQuSprout\n",
    "from qutrunk.circuit.gates import H, CNOT, Measure\n",
    "\n",
    "# allocate\n",
    "qc = QCircuit(backend=BackendQuSprout())\n",
    "qr = qc.allocate(2)\n",
    "\n",
    "# apply gate\n",
    "H * qr[0]\n",
    "CNOT * (qr[0], qr[1])\n",
    "Measure * qr[0]\n",
    "Measure * qr[1]\n",
    "\n",
    "# run circuit\n",
    "res = qc.run(shots=100)\n",
    "\n",
    "# print result\n",
    "print(res.get_counts())"
   ]
  },
  {
   "cell_type": "markdown",
   "metadata": {
    "pycharm": {
     "name": "#%% md\n"
    }
   },
   "source": [
    "以OpenQASM格式导出量子线路"
   ]
  },
  {
   "cell_type": "code",
   "execution_count": 9,
   "metadata": {
    "pycharm": {
     "name": "#%%\n"
    }
   },
   "outputs": [
    {
     "name": "stdout",
     "output_type": "stream",
     "text": [
      "OPENQASM 2.0;\n",
      "include \"qulib1.inc\";\n",
      "qreg q[2];\n",
      "creg c[2];\n",
      "h q[0];\n",
      "cx q[0],q[1];\n",
      "measure q[0] -> c[0];\n",
      "measure q[1] -> c[1];\n"
     ]
    }
   ],
   "source": [
    "from qutrunk.circuit import QCircuit\n",
    "from qutrunk.circuit.gates import H, CNOT, Measure\n",
    "\n",
    "# allocate\n",
    "qc = QCircuit()\n",
    "qr = qc.allocate(2)\n",
    "\n",
    "# apply gate\n",
    "H * qr[0]\n",
    "CNOT * (qr[0], qr[1])\n",
    "Measure * qr[0]\n",
    "Measure * qr[1]\n",
    "\n",
    "# export\n",
    "qc.dump(file=\"bell_pair.qasm\", format=\"openqasm\")\n",
    "\n",
    "with open(file=\"bell_pair.qasm\") as f:\n",
    "    for line in f:\n",
    "        print(line, end=\"\")"
   ]
  },
  {
   "cell_type": "markdown",
   "metadata": {
    "pycharm": {
     "name": "#%% md\n"
    }
   },
   "source": [
    "应用振幅放大：先对4个量子比特做均匀叠加，然后选择状态值为7作为标记值，做3次QAA迭代计算，运行后得到的结果是7对应3状态出现的概率超过了96%"
   ]
  },
  {
   "cell_type": "code",
   "execution_count": 10,
   "metadata": {
    "pycharm": {
     "name": "#%%\n"
    }
   },
   "outputs": [
    {
     "name": "stdout",
     "output_type": "stream",
     "text": [
      "prob of state |7> = 0.4726562499999991\n",
      "prob of state |7> = 0.9084472656249968\n",
      "prob of state |7> = 0.9613189697265575\n",
      "0.002578735351562488\n",
      "0.0025787353515624874\n",
      "0.002578735351562488\n",
      "0.0025787353515624874\n",
      "0.002578735351562488\n",
      "0.0025787353515624874\n",
      "0.002578735351562488\n",
      "0.9613189697265575\n",
      "0.002578735351562488\n",
      "0.0025787353515624874\n",
      "0.002578735351562488\n",
      "0.0025787353515624874\n",
      "0.002578735351562488\n",
      "0.0025787353515624874\n",
      "0.002578735351562488\n",
      "0.0025787353515624853\n"
     ]
    }
   ],
   "source": [
    "from qutrunk.circuit.ops import QAA\n",
    "from qutrunk.circuit import QCircuit\n",
    "from qutrunk.circuit.gates import H, All\n",
    "\n",
    "circuit = QCircuit()\n",
    "qureg = circuit.allocate(4)\n",
    "All(H) * qureg\n",
    "QAA(3, 7) * qureg\n",
    "for i in range(2 ** len(qureg)):\n",
    "    print(circuit.get_prob_amp(i))"
   ]
  },
  {
   "cell_type": "markdown",
   "metadata": {
    "pycharm": {
     "name": "#%% md\n"
    }
   },
   "source": [
    "使用QSP制备量子状态"
   ]
  },
  {
   "cell_type": "code",
   "execution_count": 11,
   "metadata": {
    "pycharm": {
     "name": "#%%\n"
    }
   },
   "outputs": [
    {
     "name": "stdout",
     "output_type": "stream",
     "text": [
      "qreg q[2]\n",
      "creg c[2]\n",
      "QSP('+') * q\n",
      "['0.4999999999999999, 0', '0.4999999999999999, 0', '0.4999999999999999, 0', '0.4999999999999999, 0']\n"
     ]
    }
   ],
   "source": [
    "from qutrunk.circuit.ops import QSP\n",
    "from qutrunk.circuit import QCircuit\n",
    "from qutrunk.circuit.gates import H, All, Measure\n",
    "\n",
    "circuit = QCircuit()\n",
    "qureg = circuit.allocate(2)\n",
    "QSP(\"+\") * qureg\n",
    "circuit.print(unroll=False)\n",
    "print(circuit.get_all_state())"
   ]
  },
  {
   "cell_type": "markdown",
   "metadata": {
    "pycharm": {
     "name": "#%% md\n"
    }
   },
   "source": [
    "申请多个量子寄存器"
   ]
  },
  {
   "cell_type": "code",
   "execution_count": 12,
   "metadata": {
    "pycharm": {
     "name": "#%%\n"
    }
   },
   "outputs": [
    {
     "name": "stdout",
     "output_type": "stream",
     "text": [
      "[0]\n",
      "[0]\n",
      "[{\"00\": 47}, {\"11\": 53}]\n"
     ]
    }
   ],
   "source": [
    "from qutrunk.circuit import QCircuit\n",
    "from qutrunk.circuit.gates import H, CNOT, Measure\n",
    "\n",
    "qc = QCircuit()\n",
    "# allocate 2 qureg: q1, q2\n",
    "q1, q2 = qc.allocate([1, 1])\n",
    "\n",
    "H * q1[0]\n",
    "CNOT * (q1[0], q2[0])\n",
    "Measure * q1[0]\n",
    "Measure * q2[0]\n",
    "res = qc.run(shots=100)\n",
    "print(q1.to_cl())\n",
    "print(q2.to_cl())\n",
    "print(res.get_counts())"
   ]
  },
  {
   "cell_type": "markdown",
   "metadata": {
    "pycharm": {
     "name": "#%% md\n"
    }
   },
   "source": [
    "自定义量子门"
   ]
  },
  {
   "cell_type": "code",
   "execution_count": 13,
   "metadata": {
    "pycharm": {
     "name": "#%%\n"
    }
   },
   "outputs": [
    {
     "name": "stdout",
     "output_type": "stream",
     "text": [
      "[{\"00\": 57}, {\"11\": 43}]\n"
     ]
    }
   ],
   "source": [
    "from qutrunk.circuit import QCircuit\n",
    "from qutrunk.circuit.gates import H, CNOT, gate, All, Measure\n",
    "\n",
    "@gate\n",
    "def my_gate(q):\n",
    "    H * q[0]\n",
    "    CNOT * (q[0], q[1])\n",
    "\n",
    "circuit = QCircuit()\n",
    "q = circuit.allocate(2)\n",
    "my_gate * q\n",
    "All(Measure) * q\n",
    "res = circuit.run(shots=100)\n",
    "print(res.get_counts())\n"
   ]
  }
 ],
 "metadata": {
  "kernelspec": {
   "display_name": "Python 3 (ipykernel)",
   "language": "python",
   "name": "python3"
  },
  "language_info": {
   "codemirror_mode": {
    "name": "ipython",
    "version": 3
   },
   "file_extension": ".py",
   "mimetype": "text/x-python",
   "name": "python",
   "nbconvert_exporter": "python",
   "pygments_lexer": "ipython3",
   "version": "3.10.4"
  },
  "vscode": {
   "interpreter": {
    "hash": "7e1998ff7f8aa20ada591c520b972326324e5ea05489af9e422744c7c09f6dad"
   }
  }
 },
 "nbformat": 4,
 "nbformat_minor": 2
}
